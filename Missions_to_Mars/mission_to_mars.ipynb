{
 "cells": [
  {
   "cell_type": "code",
   "execution_count": 17,
   "metadata": {},
   "outputs": [],
   "source": [
    "#IMPORTING DEPENDENCIES\n",
    "\n",
    "from splinter import Browser\n",
    "from bs4 import BeautifulSoup as bs\n",
    "import time\n",
    "import pandas as pd"
   ]
  },
  {
   "cell_type": "code",
   "execution_count": 2,
   "metadata": {},
   "outputs": [],
   "source": [
    "def init_browser():\n",
    "    # @NOTE: Replace the path with your actual path to the chromedriver\n",
    "    executable_path = {\"executable_path\": \"/usr/local/bin/chromedriver\"}\n",
    "    return Browser(\"chrome\", **executable_path, headless=False)"
   ]
  },
  {
   "cell_type": "code",
   "execution_count": 3,
   "metadata": {},
   "outputs": [],
   "source": [
    "# Scrape NASA Mars News\n",
    "browser = init_browser()\n",
    "\n",
    "# Visit NASA Mars News site\n",
    "url = \"https://mars.nasa.gov/news/?page=0&per_page=40&order=publish_date+desc%2Ccreated_at+desc&search=&category=19%2C165%2C184%2C204&blank_scope=Latest\"\n",
    "browser.visit(url)\n",
    "\n",
    "time.sleep(1)\n",
    "\n",
    "# Instantiate BS object\n",
    "html = browser.html\n",
    "soup = bs(html, \"html.parser\")\n",
    "\n",
    "# Find news slide\n",
    "news_slide = soup.find('li', class_='slide')\n",
    "\n",
    "# Scrape slide title\n",
    "news_title = news_slide.find('div', class_='content_title').get_text()\n",
    "\n",
    "# Scrape slide text\n",
    "news_preview  = news_slide.find('div', class_='article_teaser_body').get_text()\n",
    "\n",
    "# Store data in a dictionary\n",
    "news_data = {\n",
    "    \n",
    "    \"title\": news_title,\n",
    "    \"content\": news_preview\n",
    "}\n",
    "\n",
    "# Close the browser after scraping\n",
    "browser.quit()"
   ]
  },
  {
   "cell_type": "code",
   "execution_count": 15,
   "metadata": {},
   "outputs": [],
   "source": [
    "# Scrape JPL Mars Featured Images\n",
    "browser = init_browser()\n",
    "\n",
    "# Visit JPL site\n",
    "url = \"https://www.jpl.nasa.gov/spaceimages/?search=&category=Mars\"\n",
    "browser.visit(url)\n",
    "\n",
    "time.sleep(1)\n",
    "\n",
    "# Instantiate BS object\n",
    "html = browser.html\n",
    "soup = bs(html, \"html.parser\")\n",
    "\n",
    "#browser.links.find_by_partial_text('FULL IMAGE').click()\n",
    "\n",
    "# Find featured image link\n",
    "img_url = soup('article', class_='carousel_item')[0]['style'][23:-3]\n",
    "jpl_url = \"https://www.jpl.nasa.gov\" + img_url\n",
    "\n",
    "# Close the browser after scraping\n",
    "browser.quit()"
   ]
  },
  {
   "cell_type": "code",
   "execution_count": 29,
   "metadata": {},
   "outputs": [],
   "source": [
    "# Use Pandas html function to scrape Space Facts table\n",
    "df = pd.read_html(url)[0]\n",
    "\n",
    "# Convert dataframe back into html\n",
    "page_table = df.to_html()"
   ]
  },
  {
   "cell_type": "code",
   "execution_count": 69,
   "metadata": {},
   "outputs": [],
   "source": [
    "# Scrape Astrogeology Images\n",
    "browser = init_browser()\n",
    "\n",
    "# Visit NASA Mars News site\n",
    "url = \"https://astrogeology.usgs.gov/search/results?q=hemisphere+enhanced&k1=target&v1=Mars\"\n",
    "browser.visit(url)\n",
    "\n",
    "time.sleep(1)\n",
    "\n",
    "# Instantiate BS object\n",
    "html = browser.html\n",
    "soup = bs(html, \"html.parser\")\n",
    "\n",
    "#browser.links.find_by_partial_text('FULL IMAGE').click()\n",
    "\n",
    "# Find page link containers\n",
    "link_list_raw = soup.find_all('a', class_='itemLink product-item')\n",
    "\n",
    "# Extract page urls and concatenate with base url for Splinter\n",
    "link_list = []\n",
    "base_url = \"https://astrogeology.usgs.gov\"\n",
    "for item in link_list_raw:\n",
    "    if item['href'] not in link_list:\n",
    "        link_list.append(item['href'])\n",
    "\n",
    "searches = [base_url + item for item in link_list]\n",
    "\n",
    "# Close the browser after scraping\n",
    "browser.quit()"
   ]
  },
  {
   "cell_type": "code",
   "execution_count": 80,
   "metadata": {},
   "outputs": [],
   "source": [
    "# Splinter search all item pages\n",
    "browser = init_browser()\n",
    "\n",
    "# Create list of dictionaries\n",
    "dictionary_list = []\n",
    "for link in searches:\n",
    "    dictionary = {}\n",
    "    browser.visit(link)\n",
    "    html = browser.html\n",
    "    soup = bs(html, \"html.parser\")\n",
    "    img_url = soup.find('img', class_='wide-image')['src']\n",
    "    raw_title = soup.find('h2', class_='title').text.split()\n",
    "    title = \" \".join(raw_title[:-1])\n",
    "    dictionary['title'] = title\n",
    "    dictionary['img_url'] = base_url + img_url\n",
    "    dictionary_list.append(dictionary)\n",
    "    browser.back()\n",
    "    \n",
    "# Close the browser after scraping\n",
    "browser.quit()"
   ]
  },
  {
   "cell_type": "code",
   "execution_count": 81,
   "metadata": {},
   "outputs": [
    {
     "data": {
      "text/plain": [
       "[{'title': 'Cerberus Hemisphere',\n",
       "  'img_url': 'https://astrogeology.usgs.gov/cache/images/f5e372a36edfa389625da6d0cc25d905_cerberus_enhanced.tif_full.jpg'},\n",
       " {'title': 'Schiaparelli Hemisphere',\n",
       "  'img_url': 'https://astrogeology.usgs.gov/cache/images/3778f7b43bbbc89d6e3cfabb3613ba93_schiaparelli_enhanced.tif_full.jpg'},\n",
       " {'title': 'Syrtis Major Hemisphere',\n",
       "  'img_url': 'https://astrogeology.usgs.gov/cache/images/555e6403a6ddd7ba16ddb0e471cadcf7_syrtis_major_enhanced.tif_full.jpg'},\n",
       " {'title': 'Valles Marineris Hemisphere',\n",
       "  'img_url': 'https://astrogeology.usgs.gov/cache/images/b3c7c6c9138f57b4756be9b9c43e3a48_valles_marineris_enhanced.tif_full.jpg'}]"
      ]
     },
     "execution_count": 81,
     "metadata": {},
     "output_type": "execute_result"
    }
   ],
   "source": [
    "dictionary_list"
   ]
  },
  {
   "cell_type": "code",
   "execution_count": null,
   "metadata": {},
   "outputs": [],
   "source": []
  }
 ],
 "metadata": {
  "kernelspec": {
   "display_name": "Python 3",
   "language": "python",
   "name": "python3"
  },
  "language_info": {
   "codemirror_mode": {
    "name": "ipython",
    "version": 3
   },
   "file_extension": ".py",
   "mimetype": "text/x-python",
   "name": "python",
   "nbconvert_exporter": "python",
   "pygments_lexer": "ipython3",
   "version": "3.6.10"
  }
 },
 "nbformat": 4,
 "nbformat_minor": 4
}
