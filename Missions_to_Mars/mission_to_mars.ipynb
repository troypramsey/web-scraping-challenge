{
 "cells": [
  {
   "cell_type": "code",
   "execution_count": 2,
   "metadata": {},
   "outputs": [],
   "source": [
    "#IMPORTING DEPENDENCIES\n",
    "\n",
    "from splinter import Browser\n",
    "from bs4 import BeautifulSoup as bs\n",
    "import time"
   ]
  },
  {
   "cell_type": "code",
   "execution_count": 4,
   "metadata": {},
   "outputs": [],
   "source": [
    "def init_browser():\n",
    "    # @NOTE: Replace the path with your actual path to the chromedriver\n",
    "    executable_path = {\"executable_path\": \"/usr/local/bin/chromedriver\"}\n",
    "    return Browser(\"chrome\", **executable_path, headless=False)"
   ]
  },
  {
   "cell_type": "code",
   "execution_count": 13,
   "metadata": {},
   "outputs": [],
   "source": [
    "# Scrape NASA Mars News\n",
    "browser = init_browser()\n",
    "\n",
    "# Visit NASA Mars News site\n",
    "url = \"https://mars.nasa.gov/news/?page=0&per_page=40&order=publish_date+desc%2Ccreated_at+desc&search=&category=19%2C165%2C184%2C204&blank_scope=Latest\"\n",
    "browser.visit(url)\n",
    "\n",
    "time.sleep(1)\n",
    "\n",
    "# Scrape page into Soup\n",
    "html = browser.html\n",
    "soup = bs(html, \"html.parser\")\n",
    "\n",
    "# Find news slide\n",
    "news_slide = soup.find('li', class_='slide')\n",
    "\n",
    "# Scrape slide title\n",
    "news_title = news_slide.find('div', class_='content_title').get_text()\n",
    "\n",
    "# Scrape slide text\n",
    "news_preview  = news_slide.find('div', class_='article_teaser_body').get_text()\n",
    "\n",
    "# Store data in a dictionary\n",
    "news_data = {\n",
    "    \n",
    "    \"title\": news_title,\n",
    "    \"content\": news_preview\n",
    "}\n",
    "\n",
    "# Close the browser after scraping\n",
    "browser.quit()"
   ]
  },
  {
   "cell_type": "code",
   "execution_count": null,
   "metadata": {},
   "outputs": [],
   "source": [
    "# Scrape JPL Mars Featured Images\n",
    "browser = init_browser()\n",
    "\n",
    "# Visit NASA Mars News site\n",
    "url = \"https://www.jpl.nasa.gov/spaceimages/?search=&category=Mars\"\n",
    "browser.visit(url)\n",
    "\n",
    "time.sleep(3)\n",
    "\n",
    "# Scrape page into Soup\n",
    "html = browser.html.links.find_by_partial_text('FULL IMAGE').click()\n",
    "soup = bs(html, \"html.parser\")\n",
    "\n",
    "#browser.links.find_by_partial_text('FULL IMAGE').click()\n",
    "\n",
    "# Find news slide\n",
    "img_url = soup('img')\n",
    "#jpl_url = \"https://www.jpl.nasa.gov\" + img_url\n",
    "\n",
    "# Close the browser after scraping\n",
    "browser.quit()"
   ]
  },
  {
   "cell_type": "code",
   "execution_count": 47,
   "metadata": {},
   "outputs": [
    {
     "data": {
      "text/plain": [
       "[<img alt=\"\" class=\"print_only print_logo\" src=\"/assets/images/logo_nasa_trio_black@2x.png\"/>,\n",
       " <img alt=\"\" class=\"print_only print_logo\" src=\"/assets/images/logo_nasa_trio_black@2x.png\"/>,\n",
       " <img alt=\"more arrow\" src=\"/assets/images/overlay-arrow.png\"/>,\n",
       " <img alt=\"Her Desher Vallis\" class=\"thumb\" src=\"/spaceimages/images/wallpaper/PIA24088-640x350.jpg\" title=\"Her Desher Vallis\"/>,\n",
       " <img alt=\"more arrow\" src=\"/assets/images/overlay-arrow.png\"/>,\n",
       " <img alt=\"Sirenum Fossae\" class=\"thumb\" src=\"/spaceimages/images/wallpaper/PIA24087-640x350.jpg\" title=\"Sirenum Fossae\"/>,\n",
       " <img alt=\"more arrow\" src=\"/assets/images/overlay-arrow.png\"/>,\n",
       " <img alt=\"Daedalia Planum\" class=\"thumb\" src=\"/spaceimages/images/wallpaper/PIA24086-640x350.jpg\" title=\"Daedalia Planum\"/>,\n",
       " <img alt=\"more arrow\" src=\"/assets/images/overlay-arrow.png\"/>,\n",
       " <img alt=\"Gale Crater\" class=\"thumb\" src=\"/spaceimages/images/wallpaper/PIA24085-640x350.jpg\" title=\"Gale Crater\"/>,\n",
       " <img alt=\"more arrow\" src=\"/assets/images/overlay-arrow.png\"/>,\n",
       " <img alt=\"Olympica Fossae\" class=\"thumb\" src=\"/spaceimages/images/wallpaper/PIA24084-640x350.jpg\" title=\"Olympica Fossae\"/>,\n",
       " <img alt=\"more arrow\" src=\"/assets/images/overlay-arrow.png\"/>,\n",
       " <img alt=\"Terra Cimmeria Channel\" class=\"thumb\" src=\"/spaceimages/images/wallpaper/PIA24083-640x350.jpg\" title=\"Terra Cimmeria Channel\"/>,\n",
       " <img alt=\"more arrow\" src=\"/assets/images/overlay-arrow.png\"/>,\n",
       " <img alt=\"Curiosity Spots a Dust Devil in the Hills\" class=\"thumb\" src=\"/spaceimages/images/wallpaper/PIA24039-640x350.jpg\" title=\"Curiosity Spots a Dust Devil in the Hills\"/>,\n",
       " <img alt=\"more arrow\" src=\"/assets/images/overlay-arrow.png\"/>,\n",
       " <img alt=\"Near Elysium Mons\" class=\"thumb\" src=\"/spaceimages/images/wallpaper/PIA24082-640x350.jpg\" title=\"Near Elysium Mons\"/>,\n",
       " <img alt=\"more arrow\" src=\"/assets/images/overlay-arrow.png\"/>,\n",
       " <img alt=\"Candor Chasma - False Color\" class=\"thumb\" src=\"/spaceimages/images/wallpaper/PIA24081-640x350.jpg\" title=\"Candor Chasma - False Color\"/>,\n",
       " <img alt=\"more arrow\" src=\"/assets/images/overlay-arrow.png\"/>,\n",
       " <img alt=\"Mawrth Vallis - False Color\" class=\"thumb\" src=\"/spaceimages/images/wallpaper/PIA24079-640x350.jpg\" title=\"Mawrth Vallis - False Color\"/>,\n",
       " <img alt=\"more arrow\" src=\"/assets/images/overlay-arrow.png\"/>,\n",
       " <img alt=\"Candor Chasma - False Color\" class=\"thumb\" src=\"/spaceimages/images/wallpaper/PIA24078-640x350.jpg\" title=\"Candor Chasma - False Color\"/>,\n",
       " <img alt=\"more arrow\" src=\"/assets/images/overlay-arrow.png\"/>,\n",
       " <img alt=\"Wind and Sand - False Color\" class=\"thumb\" src=\"/spaceimages/images/wallpaper/PIA24077-640x350.jpg\" title=\"Wind and Sand - False Color\"/>,\n",
       " <img alt=\"more arrow\" src=\"/assets/images/overlay-arrow.png\"/>,\n",
       " <img alt=\"Claritas Fossae - False Color\" class=\"thumb\" src=\"/spaceimages/images/wallpaper/PIA24076-640x350.jpg\" title=\"Claritas Fossae - False Color\"/>,\n",
       " <img alt=\"more arrow\" src=\"/assets/images/overlay-arrow.png\"/>,\n",
       " <img alt=\"Virrat Crater - False Color\" class=\"thumb\" src=\"/spaceimages/images/wallpaper/PIA24075-640x350.jpg\" title=\"Virrat Crater - False Color\"/>,\n",
       " <img alt=\"more arrow\" src=\"/assets/images/overlay-arrow.png\"/>,\n",
       " <img alt=\"Claritas Fossae - False Color\" class=\"thumb\" src=\"/spaceimages/images/wallpaper/PIA24074-640x350.jpg\" title=\"Claritas Fossae - False Color\"/>,\n",
       " <img alt=\"more arrow\" src=\"/assets/images/overlay-arrow.png\"/>,\n",
       " <img alt=\"Angustus Labyrinthus - False Color\" class=\"thumb\" src=\"/spaceimages/images/wallpaper/PIA24073-640x350.jpg\" title=\"Angustus Labyrinthus - False Color\"/>,\n",
       " <img alt=\"more arrow\" src=\"/assets/images/overlay-arrow.png\"/>,\n",
       " <img alt=\"Terra Cimmeria Crater - False Color\" class=\"thumb\" src=\"/spaceimages/images/wallpaper/PIA24072-640x350.jpg\" title=\"Terra Cimmeria Crater - False Color\"/>,\n",
       " <img alt=\"more arrow\" src=\"/assets/images/overlay-arrow.png\"/>,\n",
       " <img alt=\"Noachis Terra Crater Dunes - False Color\" class=\"thumb\" src=\"/spaceimages/images/wallpaper/PIA24059-640x350.jpg\" title=\"Noachis Terra Crater Dunes - False Color\"/>,\n",
       " <img alt=\"more arrow\" src=\"/assets/images/overlay-arrow.png\"/>,\n",
       " <img alt=\"HiRISE Finds a Dune and Ripples\" class=\"thumb\" src=\"/spaceimages/images/wallpaper/PIA24036-640x350.jpg\" title=\"HiRISE Finds a Dune and Ripples\"/>,\n",
       " <img alt=\"more arrow\" src=\"/assets/images/overlay-arrow.png\"/>,\n",
       " <img alt=\"HiRISE Catches an Avalanche on Mars\" class=\"thumb\" src=\"/spaceimages/images/wallpaper/PIA24035-640x350.jpg\" title=\"HiRISE Catches an Avalanche on Mars\"/>,\n",
       " <img alt=\"more arrow\" src=\"/assets/images/overlay-arrow.png\"/>,\n",
       " <img alt=\"Crater Dunes - False Color\" class=\"thumb\" src=\"/spaceimages/images/wallpaper/PIA24058-640x350.jpg\" title=\"Crater Dunes - False Color\"/>,\n",
       " <img alt=\"more arrow\" src=\"/assets/images/overlay-arrow.png\"/>,\n",
       " <img alt=\"Crater Dunes - False Color\" class=\"thumb\" src=\"/spaceimages/images/wallpaper/PIA24057-640x350.jpg\" title=\"Crater Dunes - False Color\"/>,\n",
       " <img alt=\"more arrow\" src=\"/assets/images/overlay-arrow.png\"/>,\n",
       " <img alt=\"Rabe Crater Dunes - False Color\" class=\"thumb\" src=\"/spaceimages/images/wallpaper/PIA24056-640x350.jpg\" title=\"Rabe Crater Dunes - False Color\"/>,\n",
       " <img alt=\"more arrow\" src=\"/assets/images/overlay-arrow.png\"/>,\n",
       " <img alt=\"Rabe Crater - False Color\" class=\"thumb\" src=\"/spaceimages/images/wallpaper/PIA24055-640x350.jpg\" title=\"Rabe Crater - False Color\"/>,\n",
       " <img alt=\"more arrow\" src=\"/assets/images/overlay-arrow.png\"/>,\n",
       " <img alt=\"Nectaris Fossae - False Color\" class=\"thumb\" src=\"/spaceimages/images/wallpaper/PIA24054-640x350.jpg\" title=\"Nectaris Fossae - False Color\"/>,\n",
       " <img alt=\"more arrow\" src=\"/assets/images/overlay-arrow.png\"/>,\n",
       " <img alt=\"Hesperia Planum Crater - False Color\" class=\"thumb\" src=\"/spaceimages/images/wallpaper/PIA24053-640x350.jpg\" title=\"Hesperia Planum Crater - False Color\"/>,\n",
       " <img alt=\"more arrow\" src=\"/assets/images/overlay-arrow.png\"/>,\n",
       " <img alt=\"Ariadnes Colles - False Color\" class=\"thumb\" src=\"/spaceimages/images/wallpaper/PIA24052-640x350.jpg\" title=\"Ariadnes Colles - False Color\"/>,\n",
       " <img alt=\"more arrow\" src=\"/assets/images/overlay-arrow.png\"/>,\n",
       " <img 2020'=\"\" alt=\"Curiosity\" as=\"\" class=\"thumb\" collection=\"\" july=\"\" of=\"\" rock=\"\" s=\"\" src=\"/spaceimages/images/wallpaper/PIA23977-640x350.jpg\" title=\"Curiosity\"/>,\n",
       " <img alt=\"more arrow\" src=\"/assets/images/overlay-arrow.png\"/>,\n",
       " <img alt=\"Curiosity Captures a Spaghetti Western Landscape on Mars\" class=\"thumb\" src=\"/spaceimages/images/wallpaper/PIA23971-640x350.jpg\" title=\"Curiosity Captures a Spaghetti Western Landscape on Mars\"/>,\n",
       " <img alt=\"more arrow\" src=\"/assets/images/overlay-arrow.png\"/>,\n",
       " <img alt=\"A Dramatic View of Mars\" class=\"thumb\" mount=\"\" sharp'=\"\" src=\"/spaceimages/images/wallpaper/PIA23898-640x350.jpg\" title=\"A Dramatic View of Mars\"/>,\n",
       " <img alt=\"more arrow\" src=\"/assets/images/overlay-arrow.png\"/>,\n",
       " <img alt=\"Nirgal Vallis\" class=\"thumb\" src=\"/spaceimages/images/wallpaper/PIA24015-640x350.jpg\" title=\"Nirgal Vallis\"/>,\n",
       " <img alt=\"more arrow\" src=\"/assets/images/overlay-arrow.png\"/>,\n",
       " <img alt=\"Hephaestus Fossae\" class=\"thumb\" src=\"/spaceimages/images/wallpaper/PIA24014-640x350.jpg\" title=\"Hephaestus Fossae\"/>,\n",
       " <img alt=\"jpl photojournal\" class=\"thumb\" src=\"/assets/images/content/tmp/images/jpl_photojournal(3x1).jpg\"/>,\n",
       " <img alt=\"Great images in NASA\" class=\"thumb\" src=\"/assets/images/content/tmp/images/nasa_images(3x1).jpg\"/>,\n",
       " <img alt=\"more arrow\" src=\"/assets/images/overlay-arrow.png\"/>,\n",
       " <img alt=\"This mosaic image of asteroid Bennu is composed of 12 images collected on Dec. 2, 2018\" src=\"//imagecache.jpl.nasa.gov/images/640x350/asteroid20200909-MAIN-16-640x350.jpg\"/>,\n",
       " <img alt=\"more arrow\" src=\"/assets/images/overlay-arrow.png\"/>,\n",
       " <img alt=\"Technicians move an engineering version of the Perseverance Mars rover\" src=\"//imagecache.jpl.nasa.gov/images/640x350/PIA23965_MAIN_vstb_move_7sec-640x350.gif\"/>,\n",
       " <img alt=\"more arrow\" src=\"/assets/images/overlay-arrow.png\"/>,\n",
       " <img alt=\"Sentinel 6 testing\" src=\"//imagecache.jpl.nasa.gov/images/640x350/sentinel-6-testing-16-640x350.jpg\"/>]"
      ]
     },
     "execution_count": 47,
     "metadata": {},
     "output_type": "execute_result"
    }
   ],
   "source": [
    "img_url"
   ]
  },
  {
   "cell_type": "code",
   "execution_count": null,
   "metadata": {},
   "outputs": [],
   "source": []
  }
 ],
 "metadata": {
  "kernelspec": {
   "display_name": "Python 3",
   "language": "python",
   "name": "python3"
  },
  "language_info": {
   "codemirror_mode": {
    "name": "ipython",
    "version": 3
   },
   "file_extension": ".py",
   "mimetype": "text/x-python",
   "name": "python",
   "nbconvert_exporter": "python",
   "pygments_lexer": "ipython3",
   "version": "3.6.10"
  }
 },
 "nbformat": 4,
 "nbformat_minor": 4
}
