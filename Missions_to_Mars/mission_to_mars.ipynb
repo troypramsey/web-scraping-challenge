{
 "cells": [
  {
   "cell_type": "code",
   "execution_count": 2,
   "metadata": {},
   "outputs": [],
   "source": [
    "#IMPORTING DEPENDENCIES\n",
    "\n",
    "from splinter import Browser\n",
    "from bs4 import BeautifulSoup as bs\n",
    "import time"
   ]
  },
  {
   "cell_type": "code",
   "execution_count": 4,
   "metadata": {},
   "outputs": [],
   "source": [
    "def init_browser():\n",
    "    # @NOTE: Replace the path with your actual path to the chromedriver\n",
    "    executable_path = {\"executable_path\": \"/usr/local/bin/chromedriver\"}\n",
    "    return Browser(\"chrome\", **executable_path, headless=False)"
   ]
  },
  {
   "cell_type": "code",
   "execution_count": 13,
   "metadata": {},
   "outputs": [],
   "source": [
    "# Scrape NASA Mars News\n",
    "browser = init_browser()\n",
    "\n",
    "# Visit NASA Mars News site\n",
    "url = \"https://mars.nasa.gov/news/?page=0&per_page=40&order=publish_date+desc%2Ccreated_at+desc&search=&category=19%2C165%2C184%2C204&blank_scope=Latest\"\n",
    "browser.visit(url)\n",
    "\n",
    "time.sleep(1)\n",
    "\n",
    "# Scrape page into Soup\n",
    "html = browser.html\n",
    "soup = bs(html, \"html.parser\")\n",
    "\n",
    "# Find news slide\n",
    "news_slide = soup.find('li', class_='slide')\n",
    "\n",
    "# Scrape slide title\n",
    "news_title = news_slide.find('div', class_='content_title').get_text()\n",
    "\n",
    "# Scrape slide text\n",
    "news_preview  = news_slide.find('div', class_='article_teaser_body').get_text()\n",
    "\n",
    "# Store data in a dictionary\n",
    "news_data = {\n",
    "    \n",
    "    \"title\": news_title,\n",
    "    \"content\": news_preview\n",
    "}\n",
    "\n",
    "# Close the browser after scraping\n",
    "browser.quit()"
   ]
  },
  {
   "cell_type": "code",
   "execution_count": null,
   "metadata": {},
   "outputs": [],
   "source": [
    "# Scrape JPL Mars Featured Images\n",
    "browser = init_browser()\n",
    "\n",
    "# Visit NASA Mars News site\n",
    "url = \"https://www.jpl.nasa.gov/spaceimages/?search=&category=Mars\"\n",
    "browser.visit(url)\n",
    "\n",
    "time.sleep(1)\n",
    "\n",
    "# Scrape page into Soup\n",
    "html = browser.html\n",
    "soup = bs(html, \"html.parser\")\n",
    "\n",
    "# Find news slide\n",
    "news_slide = soup.find('li', class_='slide')\n",
    "\n",
    "# Scrape slide title\n",
    "news_title = news_slide.find('div', class_='content_title').get_text()\n",
    "\n",
    "# Scrape slide text\n",
    "news_preview  = news_slide.find('div', class_='article_teaser_body').get_text()\n",
    "\n",
    "# Store data in a dictionary\n",
    "news_data = {\n",
    "    \n",
    "    \"title\": news_title,\n",
    "    \"content\": news_preview\n",
    "}\n",
    "\n",
    "# Close the browser after scraping\n",
    "browser.quit()"
   ]
  },
  {
   "cell_type": "code",
   "execution_count": null,
   "metadata": {},
   "outputs": [],
   "source": []
  }
 ],
 "metadata": {
  "kernelspec": {
   "display_name": "Python 3",
   "language": "python",
   "name": "python3"
  },
  "language_info": {
   "codemirror_mode": {
    "name": "ipython",
    "version": 3
   },
   "file_extension": ".py",
   "mimetype": "text/x-python",
   "name": "python",
   "nbconvert_exporter": "python",
   "pygments_lexer": "ipython3",
   "version": "3.6.10"
  }
 },
 "nbformat": 4,
 "nbformat_minor": 4
}
